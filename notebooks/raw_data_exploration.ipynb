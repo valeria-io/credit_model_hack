{
 "cells": [
  {
   "cell_type": "code",
   "execution_count": 1,
   "metadata": {},
   "outputs": [],
   "source": [
    "%load_ext autoreload"
   ]
  },
  {
   "cell_type": "code",
   "execution_count": 2,
   "metadata": {},
   "outputs": [],
   "source": [
    "%autoreload 2\n",
    "\n",
    "import os\n",
    "import sys\n",
    "module_path = os.path.abspath(os.path.join('../'))\n",
    "if module_path not in sys.path:\n",
    "    sys.path.append(module_path)\n",
    "    \n",
    "import pandas as pd\n",
    "import numpy as np\n",
    "\n",
    "import matplotlib.pyplot as plt"
   ]
  },
  {
   "cell_type": "code",
   "execution_count": 17,
   "metadata": {},
   "outputs": [],
   "source": [
    "from src.config.data_constants import COLUMNS\n",
    "from src.config.paths_constants import RAW_DATA_PATH\n",
    "from src.data.load_data import load_raw_data\n",
    "from src.features.pre_processing import replace_values"
   ]
  },
  {
   "cell_type": "code",
   "execution_count": 4,
   "metadata": {},
   "outputs": [
    {
     "name": "stderr",
     "output_type": "stream",
     "text": [
      "/Users/valeria/anaconda/envs/cm/lib/python3.6/site-packages/IPython/core/interactiveshell.py:3185: DtypeWarning: Columns (34,80,82) have mixed types. Specify dtype option on import or set low_memory=False.\n",
      "  if (yield from self.run_code(code, result)):\n"
     ]
    }
   ],
   "source": [
    "raw_df = load_raw_data()"
   ]
  },
  {
   "cell_type": "code",
   "execution_count": 18,
   "metadata": {},
   "outputs": [],
   "source": [
    "df = replace_values(raw_df)"
   ]
  },
  {
   "cell_type": "code",
   "execution_count": 30,
   "metadata": {},
   "outputs": [
    {
     "data": {
      "text/plain": [
       "255.19"
      ]
     },
     "execution_count": 30,
     "metadata": {},
     "output_type": "execute_result"
    }
   ],
   "source": [
    "#Are these super high interests correct?\n",
    "df['Interest'].sort_values().unique()[-20]"
   ]
  },
  {
   "cell_type": "code",
   "execution_count": 33,
   "metadata": {},
   "outputs": [
    {
     "data": {
      "text/plain": [
       "array([ 0,  1,  2, 18, 19, 20, 21, 22, 23, 24, 25, 26, 27, 28, 29, 30, 31,\n",
       "       32, 33, 34, 35, 36, 37, 38, 39, 40, 41, 42, 43, 44, 45, 46, 47, 48,\n",
       "       49, 50, 51, 52, 53, 54, 55, 56, 57, 58, 59, 60, 61, 62, 63, 64, 65,\n",
       "       66, 67, 68, 69, 70, 71, 72, 74, 75, 76, 77])"
      ]
     },
     "execution_count": 33,
     "metadata": {},
     "output_type": "execute_result"
    }
   ],
   "source": [
    "df['Age'].sort_values().unique()"
   ]
  },
  {
   "cell_type": "code",
   "execution_count": 20,
   "metadata": {},
   "outputs": [
    {
     "name": "stdout",
     "output_type": "stream",
     "text": [
      "LoanNumber\n",
      "37 1851726\n",
      "ApplicationSignedHour\n",
      "0 23\n",
      "ApplicationSignedWeekday\n",
      "1 7\n",
      "Age\n",
      "0 77\n",
      "AppliedAmount\n",
      "31.9558 10632.0\n",
      "Amount\n",
      "6.39 10632.0\n",
      "Interest\n",
      "3.0 264.31\n",
      "LoanDuration\n",
      "1 60\n",
      "MonthlyPayment\n",
      "0.0 2368.54\n",
      "HomeOwnershipType\n",
      "-1.0 10.0\n",
      "IncomeFromPrincipalEmployer\n",
      "0.0 228400.0\n",
      "IncomeFromPension\n",
      "0.0 5038.0\n",
      "IncomeFromFamilyAllowance\n",
      "0.0 2006.0\n",
      "IncomeFromSocialWelfare\n",
      "0.0 4551.0\n",
      "IncomeFromLeavePay\n",
      "0.0 21300.0\n",
      "IncomeFromChildSupport\n",
      "0.0 2500.0\n",
      "IncomeOther\n",
      "0.0 50000.0\n",
      "IncomeTotal\n",
      "0.0 1012019.0\n",
      "ExistingLiabilities\n",
      "0 40\n",
      "LiabilitiesTotal\n",
      "0.0 12400000.0\n",
      "RefinanceLiabilities\n",
      "0 23\n",
      "DebtToIncome\n",
      "0.0 198.02\n",
      "FreeCash\n",
      "-2332.0 158748.64\n",
      "CreditScoreEeMini\n",
      "0.0 1000.0\n",
      "NoOfPreviousLoansBeforeLoan\n",
      "0 25\n",
      "AmountOfPreviousLoansBeforeLoan\n",
      "0.0 53762.0\n",
      "PreviousRepaymentsBeforeLoan\n",
      "0.0 34077.42\n",
      "PreviousEarlyRepaymentsBefoleLoan\n",
      "0.0 48100.0\n",
      "PreviousEarlyRepaymentsCountBeforeLoan\n",
      "0 11\n"
     ]
    }
   ],
   "source": [
    "for col in df.select_dtypes(include=[np.number]).columns:\n",
    "    print(col)\n",
    "    print(df[col].min(), df[col].max())\n",
    "\n",
    "for col in df.select_dtypes(exclude=[np.number]).columns:\n",
    "    if ('-1.' in df[col]) | ('-1' in df[col]):\n",
    "        print(col)\n",
    "        print(df[col].min(), df[col].max())"
   ]
  },
  {
   "cell_type": "code",
   "execution_count": null,
   "metadata": {},
   "outputs": [],
   "source": [
    "{\n",
    "    COLUMNS.OCCUPATION_AREA: {\n",
    "        1.: 'Other',\n",
    "        2.: 'Mining',\n",
    "        3.: 'Processing',\n",
    "        4.: 'Energy',\n",
    "        5.: 'Utilities',\n",
    "        6.: 'Construction',\n",
    "        7.: 'Retail and wholesale',\n",
    "        8.: 'Transport and warehousing', \n",
    "        9.: 'Hospitality and catering',\n",
    "        10.: 'Info and telecom',\n",
    "        11.: 'Finance and insurance',\n",
    "        12.: 'Real-estate',\n",
    "        13.: 'Research',\n",
    "        14.: 'Administrative',\n",
    "        15.: 'Civil service & military', \n",
    "        16.: 'Education',\n",
    "        17.: 'Healthcare and social help',\n",
    "        18.: 'Art and entertainment',\n",
    "        19.: 'Agriculture, forestry and fishing'\n",
    "    }\n",
    "    COLUMNS.EMPLOYMENT_STATUS: {\n",
    "        -1.: np.nan,\n",
    "        0.: np.nan,\n",
    "        1.: 'Unemployed',\n",
    "        2.: 'Partially Employed',\n",
    "        3.: 'Fully Employed',\n",
    "        4.: 'Self-Employed',\n",
    "        5.: 'Entrepreneur',\n",
    "        6.: 'Retiree'\n",
    "    }\n",
    "    COLUMNS.MARITAL_STATUS: {\n",
    "        -1.: np.nan,\n",
    "        0.: np.nan,\n",
    "        1.: 'Married',\n",
    "        2.: 'Cohabitant',\n",
    "        3.: 'Single',\n",
    "        4.: 'Divorced',\n",
    "        5.: 'Widow'\n",
    "    }\n",
    "    COLUMNS.EDUCATION: {\n",
    "        -1.: np.nan,\n",
    "        1.: 'Primary',\n",
    "        2.: 'Basic',\n",
    "        3.: 'Vocational',\n",
    "        4.: 'Secondary',\n",
    "        5.: 'Higher',\n",
    "        0.: np.nan\n",
    "    }\n",
    "    COLUMNS.USE_OF_LOAN: {\n",
    "        -1.: np.nan,\n",
    "        0: 'Loan Consolidation',   \n",
    "        1: 'Real Estate',\n",
    "        2: 'Home Improvement',\n",
    "        3: 'Business',\n",
    "        4: 'Education',\n",
    "        5: 'Travel',\n",
    "        6: 'Vehicle',\n",
    "        7: 'Other',\n",
    "        8: 'Health', \n",
    "        101: 'Working Capital', \n",
    "        102: 'Purchase of Machinery Equipment', \n",
    "        104: 'Accounts Receivable Financing',\n",
    "        106: 'Construction Finance', \n",
    "        107: 'Acquisition of Stocks', \n",
    "        108: 'Acquisition of Real Estate', \n",
    "        110: 'Other Business'\n",
    "    }\n",
    "    COLUMNS.GENDER: {\n",
    "        0.: 'Male',\n",
    "        1.: 'Woman',\n",
    "        2.: np.nan\n",
    "    }\n",
    "    COLUMNS.VERIFICATION_TYPE: {\n",
    "        0.: np.nan,\n",
    "        1.: 'Income Unverified',\n",
    "        2.: 'Cross-Ref by Phone'\n",
    "        3.: 'Income Verified',\n",
    "        4.: 'Income and Expenes Verified'\n",
    "    },\n",
    "    COLUMNS.LANGUAGE.CODE: {\n",
    "        1: 'Estonian',\n",
    "        2: 'English',\n",
    "        3: 'Russian',\n",
    "        4: 'Finnish',\n",
    "        5: 'German',\n",
    "        6: 'Spanish',\n",
    "        9: 'Slovakian',\n",
    "        7: np.nan,\n",
    "        10: np.nan,\n",
    "        13: np.nan,\n",
    "        15: np.nan,\n",
    "        21: np.nan,\n",
    "        22: np.nan\n",
    "    }\n",
    "}"
   ]
  },
  {
   "cell_type": "code",
   "execution_count": null,
   "metadata": {},
   "outputs": [],
   "source": [
    "len(raw_df['LoanNumber'].unique())"
   ]
  },
  {
   "cell_type": "code",
   "execution_count": null,
   "metadata": {},
   "outputs": [],
   "source": [
    "list(raw_df.columns)"
   ]
  },
  {
   "cell_type": "code",
   "execution_count": null,
   "metadata": {},
   "outputs": [],
   "source": []
  }
 ],
 "metadata": {
  "kernelspec": {
   "display_name": "Python 3",
   "language": "python",
   "name": "python3"
  },
  "language_info": {
   "codemirror_mode": {
    "name": "ipython",
    "version": 3
   },
   "file_extension": ".py",
   "mimetype": "text/x-python",
   "name": "python",
   "nbconvert_exporter": "python",
   "pygments_lexer": "ipython3",
   "version": "3.6.8"
  }
 },
 "nbformat": 4,
 "nbformat_minor": 2
}
